{
  "metadata": {
    "kernelspec": {
      "name": "python",
      "display_name": "Python (Pyodide)",
      "language": "python"
    },
    "language_info": {
      "codemirror_mode": {
        "name": "python",
        "version": 3
      },
      "file_extension": ".py",
      "mimetype": "text/x-python",
      "name": "python",
      "nbconvert_exporter": "python",
      "pygments_lexer": "ipython3",
      "version": "3.8"
    }
  },
  "nbformat_minor": 4,
  "nbformat": 4,
  "cells": [
    {
      "cell_type": "markdown",
      "source": "question 1 :\n#Explain the key features of Python that make it a popular choice for programming.\nAnswer : Python is one of the most widely used programming languages today.\nits popularity can be attributed to several key features that make it an excellent choice for both beginners and experienced developers.\nits easy to lern and us\nSimple syntax and grammar\nReadable code\nVersatility\nGeneral-purpose programming language\nSuitable for various applications:\nWeb development\nData analysis and science\nArtificial intelligence and machine learning\nAutomation\nGaming\nNetwork security\nLarge Standard Library:\nExtensive collection of libraries and modules\nSupports various tasks and applications\nReduces need for external libraries\nThese features combined make Python an ideal choice for beginners, experts, and organizations alike, contributing to its widespread adoption across various industries and applications\".\n",
      "metadata": {}
    },
    {
      "cell_type": "code",
      "source": "question 2 :\n#Describe the role of predefined keywords in Python and provide examples of how they are used in a program.\nAnswer : Python has 35 predefined keywords, which are reserved words with special meanings.\"\nThey are used to define the structure and logic of a program. keywords are categrozied in following types :\"\n1 : Control Flow: if, else, for, while, break, continue, return\n2 : Data Types: True, False, None\n3 : Function Definition: def, lambda\n4 : Class Definition: class\n5 : Import: import, from\n6 : Exception Handling: try, except, finally\n7 : Operator: and, or, not, in, is\n some of the examples are as follow , how they are used\nControl Flow\nif x > 5:\n    print(\"x is greater than 5\")\n\nFunction Definition\ndef greet(name):\n    print(\"Hello, \" + name)\n\nClass Definition\nclass Person:\n    def __init__(self, name, age):\n        self.name = name\n        self.age = age\n\nException Handling\ntry:\n    x = 5 / 0\nexcept ZeroDivisionError:\n    print(\"Cannot divide by zero\")\n\nImport\nimport math\nprint(math.pi)\n\nData Type\nx = True\nif x:\n    print(\"x is True\")\n\nOperator\nif x in [1, 2, 3]:\n    print(\"x is in the list\")",
      "metadata": {
        "trusted": true
      },
      "outputs": [],
      "execution_count": null
    },
    {
      "cell_type": "code",
      "source": "question 3 : \n#Compare and contrast mutable and immutable objects in Python with examples.\n #Answer : in programming, objects can be classified into two categories based on their ability to change:\nMutable Objects :\nCan be modified or changed after creation\nChanges affect the original object\nMemory location remains the same\nExamples: Lists, Dictionaries, Sets, User-defined classes (unless explicitly made immutable)\nHere are some code examples of mutable objects \nList (mutable)\nmy_list = [1, 2, 3]\nmy_list.append(4)\nprint(my_list)   [1, 2, 3, 4]\n\nDictionary (mutable)\nmy_dict = {\"a\": 1}\nmy_dict[\"b\"] = 2\nprint(my_dict)   {\"a\": 1, \"b\": 2}\nImmutable Objects :\nCannot be modified or changed after creation\nChanges create a new object\nMemory location changes\nExamples: Integers, Floats, Strings, Tuples, Frozen Sets\nhere are some examples of immutable objects :\nInteger (immutable)\nx = 5\nx += 1   creates a new object\nprint(x)   \n\nString (immutable)\nmy_str = \"hello\"\nmy_str += \" world\"   \nprint(my_str)  # \"hello world\"\n\nTuple (immutable)\nmy_tuple = (1, 2, 3)\nmy_tuple[0] = 4  # raises TypeError\n\nsome of the key differences are as follow\n                 Mutable\t                Immutable\nModifiable\t     Yes\t                    No\nChange Effect\t Original object           \tNew object created\nExamples\t     Lists, Dicts, Sets\t        Integers, Floats, Strings, Tuples\nImplications\nMutable objects can lead to unexpected behavior if not handled carefully.\nImmutable objects ensure data integrity and thread safety.\n",
      "metadata": {
        "trusted": true
      },
      "outputs": [],
      "execution_count": null
    },
    {
      "cell_type": "code",
      "source": "question 4 :\nDiscuss the different types of operators in Python and provide examples of how they are used .\nAnswer : Python has various types of operators that perform different operations:\n1. Arithmetic Operators \n+ (Addition)               \n- (Subtraction)\n* (Multiplication)\n/ (Division)\n// (Floor Division)\n% (Modulus)\n** (Exponentiation)\n\nexamples how arthematic operation is being used :\nx = 5\ny = 2\nprint(x + y)   Addition: 7\nprint(x - y)   Subtraction: 3\nprint(x * y)   Multiplication: 10\nprint(x / y)   Division: 2.5\nprint(x // y)   Floor Division: 2\nprint(x % y)   Modulus: 1\nprint(x ** y)   Exponentiation: 25\n\n2.#Comparison Operators\n== (Equal)\n!= (Not Equal)\n> (Greater Than)\n< (Less Than)\n>= (Greater Than or Equal)\n<= (Less Than or Equal)\nsome examples of comparison operators are  :\nx = 5\ny = 2\n\nprint(x == y)   False\nprint(x != y)   True\nprint(x > y)    True\nprint(x < y)    False\nprint(x >= y)   True\nprint(x <= y)   False\n\n3# Logical Operators\nand (Logical AND)\nor (Logical OR)\nnot (Logical NOT)\n some examples of logical operators are as follow :\n\nx = True\ny = False\n\nprint(x and y)  False\nprint(x or y)    True\nprint(not x)     False\n\n4 # Assignment Operators\n= (Assignment)\n+= (Addition Assignment)\n-= (Subtraction Assignment)\n*= (Multiplication Assignment)\n/= (Division Assignment)\n//= (Floor Division Assignment)\n%= (Modulus Assignment)\n**= (Exponentiation Assignment)\n #some examples of assignment operators are as follow : \nx = 5\nx += 2  x = x + 2\nprint(x)   7\n\nx *= 2   x = x * 2\nprint(x)  # 14 \n  5 Bitwise Operators\n& (Bitwise AND)\n| (Bitwise OR)\n^ (Bitwise XOR)\n~ (Bitwise NOT)\n<< (Left Shift)\n>> (Right Shift)\n# here are some examples of bitwise operators as follow :\nx = 5    101\ny = 2    010\n\nprint(x & y)   000\nprint(x | y)   111\nprint(x ^ y)   111\nprint(~x)      -6 (11111110)\n\n6 #Membership Operators\nin (Membership)\nnot in (Non-Membership)\n here are some examples of membership operators as follow :\nfruits = [\"apple\", \"banana\", \"cherry\"]\n\nprint(\"apple\" in fruits)  True\nprint(\"orange\" not in fruits)   True\n\n7# Identity Operators\nis (Identity)\nis not (Non-Identity)\nhere are some examples of identity as follow :\nx = [1, 2, 3]\ny = [1, 2, 3]\n\nprint(x == y)   True (equality)\nprint(x is y)   False (identity)",
      "metadata": {
        "trusted": true
      },
      "outputs": [],
      "execution_count": null
    },
    {
      "cell_type": "code",
      "source": "question 5\n# Explain the concept of type casting in Python with examples.\n#Answer: Type casting is the process of converting a value from one data type to another.\nTypes of Type Casting\nImplicit Type Casting: Automatically done by Python.\nExplicit Type Casting: Manually done using built-in functions.\nImplicit Type Casting\nPython automatically converts data types in certain situations:\nNumeric operations: int + float becomes float\nString concatenation: str + int becomes str (using str())\n example \n x = 5    int\ny = 2.5   float\nprint(x + y)   7.5 float\n\nname = \"abbas\"  # str\nage = 30   int\nprint(name + str(age))   \"abbas30\" (str)\n\n Explicit Type Casting\nUsing built-in functions to convert data types:\nint(): Converts to integer\nfloat(): Converts to floating-point number\nstr(): Converts to string\nbool(): Converts to boolean\ncomplex(): Converts to complex number\nlist(): Converts to list\ntuple(): Converts to tuple\ndict(): Converts to dictionary\n int() example\nx = \"123\"\ny = int(x)\nprint(y)  # 123 (int)\n\n float() example\nx = 123\ny = float(x)\nprint(y)  # 123.0 (float)\n\nstr() example\nx = 123\ny = str(x)\nprint(y)  # \"123\" (str)\n\n bool() example\nx = 0\ny = bool(x)\nprint(y)  # False (bool)\n\"important notes \nNot all conversions are possible (e.g., converting a string to an integer).\nConversions may lose precision or data (e.g., converting a float to an int).\nBe cautious when using type casting to avoid errors.\nBy understanding type casting, you can:\nConvert data types as needed.\nAvoid type-related errors.\nWrite more flexible and robust code.\"",
      "metadata": {
        "trusted": true
      },
      "outputs": [],
      "execution_count": null
    },
    {
      "cell_type": "code",
      "source": "question 6\n# How do conditional statements work in Python? Illustrate with example ?\n#Answer :Conditional Statements in Python\nConditional statements execute different blocks of code based on conditions or decisions.\nTypes of Conditional Statements\nIf Statement\nIf-Else Statement\nIf-Elif-Else Statement\nNested If Statements\n If Statement :\nExecutes code if condition is true.\nx = 5\nif x > 10:\n    print(\"x is greater than 10\")\noutput : \nNo output (condition is false)\nif-Else Statement\nExecutes different code blocks based on condition.\nx = 5\nif x > 10:\n    print(\"x is greater than 10\")\nelse:\n    print(\"x is less than or equal to 10\")\noutput :\nx is less than or equal to 10\nIf-Elif-Else Statement :\nChecks multiple conditions.\nx = 5\ny = 3\nif x > 10:\n    if y > 2:\n        print(\"x is greater than 10 and y is greater than 2\")\n    else:\n        print(\"x is greater than 10 but y is less than or equal to 2\")\noutput =  No output (outer condition is false)\nConditional Operators\n== (Equal)\n!= (Not Equal)\n> (Greater Than)\n< (Less Than)\n>= (Greater Than or Equal)\n<= (Less Than or Equal)\nLogical Operators\nand (Logical AND)\nor (Logical OR)\nnot (Logical NOT)\n\n x = 5\ny = 3\nif x > 2 and y > 2:\n    print(\"Both x and y are greater than 2\")\noutput = Both x and y are greater than 2\n\nBy using conditional statements, you can:\nControl code flow.\nMake decisions.\nExecute specific code blocks.\nThis enables writing dynamic, interactive, and responsive programs.",
      "metadata": {
        "trusted": true
      },
      "outputs": [],
      "execution_count": null
    },
    {
      "cell_type": "code",
      "source": "question 7\n# Describe the different types of loops in Python and their use cases with examples.\nAnswer : \nTypes of Loops in Python\nLoops are used to execute a block of code repeatedly.\n1. For Loop\nIterates over a sequence (list, tuple, string, etc.)\n\nfruits = [\"apple\", \"banana\", \"cherry\"]\nfor fruit in fruits:\n    print(fruit)\nOutput:\napple\nbanana\ncherry\nUse cases:\nIterate over collections.\nPerform tasks for each item.\n2.# While Loop\nContinues execution while a condition is true.\nPython\nx = 0\nwhile x < 5:\n    print(x)\n    x += 1\nOutput:\n0\n1\n2\n3\n4\nUse cases:\nRepeat tasks until a condition is met.\nHandle unknown number of iterations.\n3. #Nested Loop\nLoops inside other loops.\nPython\ncolors = [\"red\", \"green\", \"blue\"]\nshapes = [\"circle\", \"square\", \"triangle\"]\nfor color in colors:\n    for shape in shapes:\n        print(color + \" \" + shape)\nOutput:\nred circle\nred square\nred triangle\ngreen circle\ngreen square\ngreen triangle\nblue circle\nblue square\nblue triangle\nUse cases:\nHandle complex data structures.\nPerform tasks for multiple dimensions.\n4. #Break and Continue Statements\nControl loop flow.\nPython\nfor i in range(5):\n    if i == 3:\n        break\n    print(i)\nOutput:\n0\n1\n2\nPython\nfor i in range(5):\n    if i == 3:\n        continue\n    print(i)\nOutput:\n0\n1\n2\n4\nUse cases:\nExit loops prematurely.\nSkip iterations.\n5. #Range-Based Loop\nIterates over a range of numbers.\nPython\nfor i in range(5):\n    print(i)\nOutput:\n0\n1\n2\n3\n4\nUse cases:\nPerform tasks for a fixed number of iterations.\nIterate over numerical ranges.\n6.# Enumerate Loop\nIterates over indexed sequences.\nPython\nfruits = [\"apple\", \"banana\", \"cherry\"]\nfor i, fruit in enumerate(fruits):\n    print(f\"{i}: {fruit}\")\nOutput:\n0: apple\n1: banana\n2: cherry\nUse cases:\nIterate over indexed collections.\nAccess both index and value.\n7. Zip Loop\nIterates over multiple sequences simultaneously.\nPython\ncolors = [\"red\", \"green\", \"blue\"]\nshapes = [\"circle\", \"square\", \"triangle\"]\nfor color, shape in zip(colors, shapes):\n    print(color + \" \" + shape)\nOutput:\nred circle\ngreen square\nblue triangle\nUse cases:\nIterate over multiple related collections.\nPerform tasks for parallel data.\nBy mastering these loop types and use cases, you can:\nWrite efficient and effective code.\nHandle complex data structures.\nPerform repetitive tasks.",
      "metadata": {
        "trusted": true
      },
      "outputs": [],
      "execution_count": null
    }
  ]
}