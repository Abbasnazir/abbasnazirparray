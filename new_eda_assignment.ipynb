{
  "nbformat": 4,
  "nbformat_minor": 0,
  "metadata": {
    "colab": {
      "private_outputs": true,
      "provenance": []
    },
    "kernelspec": {
      "name": "python3",
      "display_name": "Python 3"
    },
    "language_info": {
      "name": "python"
    }
  },
  "cells": [
    {
      "cell_type": "code",
      "execution_count": null,
      "metadata": {
        "id": "KRhy9pCF70It"
      },
      "outputs": [],
      "source": [
        "                                                                                         EDA 1"
      ]
    },
    {
      "cell_type": "code",
      "source": [
        "open(\"/content/BIKE DETAILS (1).csv\")"
      ],
      "metadata": {
        "id": "cla2Asqm712u"
      },
      "execution_count": null,
      "outputs": []
    },
    {
      "cell_type": "code",
      "source": [
        "#What is the range of selling prices in the dataset\n",
        "import pandas as pd\n",
        "\n",
        "# Load dataset (update file path if needed)\n",
        "file_path = \"/content/BIKE DETAILS (1).csv\"  # Ensure the correct file path\n",
        "df = pd.read_csv(file_path)\n",
        "\n",
        "# Find the minimum and maximum selling prices\n",
        "selling_price_min = df[\"selling_price\"].min()\n",
        "selling_price_max = df[\"selling_price\"].max()\n",
        "\n",
        "# Display the range\n",
        "print(f\"Minimum Selling Price: ₹{selling_price_min}\")\n",
        "print(f\"Maximum Selling Price: ₹{selling_price_max}\")\n"
      ],
      "metadata": {
        "id": "GWW1-dXg715h"
      },
      "execution_count": null,
      "outputs": []
    },
    {
      "cell_type": "code",
      "source": [
        "#What is the median selling price for bikes in the dataset\n",
        "# Calculate the median selling price\n",
        "median_selling_price = df[\"selling_price\"].median()\n",
        "\n",
        "# Display the result\n",
        "print(f\"Median Selling Price: ₹{median_selling_price}\")"
      ],
      "metadata": {
        "id": "4erfXGZL718K"
      },
      "execution_count": null,
      "outputs": []
    },
    {
      "cell_type": "code",
      "source": [
        "# What is the most common seller type\n",
        "most_common_seller_type = df[\"seller_type\"].mode()[0]\n",
        "\n",
        "# Display the result\n",
        "print(f\"Most Common Seller Type: {most_common_seller_type}\")"
      ],
      "metadata": {
        "id": "N9lgtqK171_A"
      },
      "execution_count": null,
      "outputs": []
    },
    {
      "cell_type": "code",
      "source": [
        "# How many bikes have driven more than 50,000 kilometers\n",
        "# Count the number of bikes that have driven more than 50,000 km\n",
        "bikes_above_50000_km = df[df[\"km_driven\"] > 50000].shape[0]\n",
        "\n",
        "# Display the result\n",
        "print(f\"Number of bikes driven more than 50,000 km: {bikes_above_50000_km}\")\n"
      ],
      "metadata": {
        "id": "iYl1yXb472Bv"
      },
      "execution_count": null,
      "outputs": []
    },
    {
      "cell_type": "code",
      "source": [
        "# What is the average km_driven value for each ownership type\n",
        "# Calculate the average km_driven for each ownership type\n",
        "average_km_by_owner = df.groupby(\"owner\")[\"km_driven\"].mean()\n",
        "\n",
        "# Display the result\n",
        "print(average_km_by_owner)\n"
      ],
      "metadata": {
        "id": "I7-ziK_372Ec"
      },
      "execution_count": null,
      "outputs": []
    },
    {
      "cell_type": "code",
      "source": [
        "# What proportion of bikes are from the year 2015 or older\n",
        "# Count the number of bikes from the year 2015 or older\n",
        "bikes_2015_or_older = df[df[\"year\"] <= 2015].shape[0]\n",
        "\n",
        "# Calculate the proportion\n",
        "total_bikes = df.shape[0]\n",
        "proportion_2015_or_older = bikes_2015_or_older / total_bikes\n",
        "\n",
        "# Display the result\n",
        "print(f\"Proportion of bikes from 2015 or older: {proportion_2015_or_older:.2%}\")\n"
      ],
      "metadata": {
        "id": "98aAmS6P72J6"
      },
      "execution_count": null,
      "outputs": []
    },
    {
      "cell_type": "code",
      "source": [
        "# What is the trend of missing values across the dataset\n",
        "# Count missing values in each column\n",
        "missing_values = df.isnull().sum()\n",
        "\n",
        "# Calculate the percentage of missing values\n",
        "missing_percentage = (missing_values / df.shape[0]) * 100\n",
        "\n",
        "# Combine into a DataFrame for better visualization\n",
        "missing_data = pd.DataFrame({\"Missing Values\": missing_values, \"Percentage\": missing_percentage})\n",
        "\n",
        "# Display the result\n",
        "print(missing_data)\n"
      ],
      "metadata": {
        "id": "AyBAjhpN72My"
      },
      "execution_count": null,
      "outputs": []
    },
    {
      "cell_type": "code",
      "source": [
        "#What is the highest ex_showroom_price recorded, and for which bike\n",
        "# Find the highest ex_showroom_price\n",
        "max_ex_showroom_price = df[\"ex_showroom_price\"].max()\n",
        "\n",
        "# Find the bike with the highest ex_showroom_price\n",
        "bike_with_max_price = df[df[\"ex_showroom_price\"] == max_ex_showroom_price][\"name\"].values[0]\n",
        "\n",
        "# Display the result\n",
        "print(f\"Highest Ex-Showroom Price: ₹{max_ex_showroom_price}\")\n",
        "print(f\"Bike with Highest Ex-Showroom Price: {bike_with_max_price}\")\n"
      ],
      "metadata": {
        "id": "o5wU7uC272Pd"
      },
      "execution_count": null,
      "outputs": []
    },
    {
      "cell_type": "code",
      "source": [
        "#What is the total number of bikes listed by each seller type\n",
        "# Count the number of bikes listed by each seller type\n",
        "bikes_by_seller_type = df[\"seller_type\"].value_counts()\n",
        "\n",
        "# Display the result\n",
        "print(bikes_by_seller_type)\n"
      ],
      "metadata": {
        "id": "ncmfpHhe72Sb"
      },
      "execution_count": null,
      "outputs": []
    },
    {
      "cell_type": "code",
      "source": [
        "#What is the relationship between selling_price and km_driven for first-owner bikes\n",
        "import seaborn as sns\n",
        "import matplotlib.pyplot as plt\n",
        "\n",
        "# Filter data for first-owner bikes\n",
        "first_owner_bikes = df[df[\"owner\"] == \"1st owner\"]\n",
        "\n",
        "# Plot scatter plot\n",
        "plt.figure(figsize=(6, 4))\n",
        "sns.scatterplot(x=first_owner_bikes[\"km_driven\"], y=first_owner_bikes[\"selling_price\"], alpha=0.5)\n",
        "plt.xlabel(\"Kilometers Driven\")\n",
        "plt.ylabel(\"Selling Price\")\n",
        "plt.title(\"Relationship between Selling Price and KM Driven (1st Owner Bikes)\")\n",
        "plt.show()\n"
      ],
      "metadata": {
        "id": "WV8za1YS72VJ"
      },
      "execution_count": null,
      "outputs": []
    },
    {
      "cell_type": "code",
      "source": [
        "#Identify and remove outliers in the km_driven column using the IQR method\n",
        "# Calculate Q1 (25th percentile) and Q3 (75th percentile)\n",
        "Q1 = df[\"km_driven\"].quantile(0.25)\n",
        "Q3 = df[\"km_driven\"].quantile(0.75)\n",
        "\n",
        "# Compute IQR (Interquartile Range)\n",
        "IQR = Q3 - Q1\n",
        "\n",
        "# Define lower and upper bounds for outliers\n",
        "lower_bound = Q1 - 1.5 * IQR\n",
        "upper_bound = Q3 + 1.5 * IQR\n",
        "\n",
        "# Filter out outliers\n",
        "df_cleaned = df[(df[\"km_driven\"] >= lower_bound) & (df[\"km_driven\"] <= upper_bound)]\n",
        "\n",
        "# Display the number of rows before and after removing outliers\n",
        "print(f\"Original dataset size: {df.shape[0]}\")\n",
        "print(f\"Cleaned dataset size: {df_cleaned.shape[0]}\")\n"
      ],
      "metadata": {
        "id": "x0IttkLW73ha"
      },
      "execution_count": null,
      "outputs": []
    },
    {
      "cell_type": "code",
      "source": [
        "#Perform a bivariate analysis to visualize the relationship between year and selling_price\n",
        "import seaborn as sns\n",
        "import matplotlib.pyplot as plt\n",
        "\n",
        "# Plot scatter plot\n",
        "plt.figure(figsize=(6, 4))\n",
        "sns.scatterplot(x=df[\"year\"], y=df[\"selling_price\"], alpha=0.5)\n",
        "plt.xlabel(\"Year\")\n",
        "plt.ylabel(\"Selling Price\")\n",
        "plt.title(\"Relationship between Year and Selling Price\")\n",
        "plt.show()\n"
      ],
      "metadata": {
        "id": "gNhQXz_Z73kf"
      },
      "execution_count": null,
      "outputs": []
    },
    {
      "cell_type": "code",
      "source": [
        "#What is the average depreciation in selling price based on the bike's age (current year - manufacturing year)\n",
        "from datetime import datetime\n",
        "\n",
        "# Calculate bike age\n",
        "current_year = datetime.now().year\n",
        "df[\"bike_age\"] = current_year - df[\"year\"]\n",
        "\n",
        "# Calculate average depreciation per year\n",
        "avg_depreciation = df.groupby(\"bike_age\")[\"selling_price\"].mean()\n",
        "\n",
        "# Display the result\n",
        "print(avg_depreciation)\n"
      ],
      "metadata": {
        "id": "XstG9BpP73nT"
      },
      "execution_count": null,
      "outputs": []
    },
    {
      "cell_type": "code",
      "source": [
        "# Which bike names are priced significantly above the average price for their manufacturing year\n",
        "# Calculate the average selling price for each manufacturing year\n",
        "avg_price_by_year = df.groupby(\"year\")[\"selling_price\"].mean()\n",
        "\n",
        "# Merge the average price back into the dataframe\n",
        "df[\"avg_price_for_year\"] = df[\"year\"].map(avg_price_by_year)\n",
        "\n",
        "# Identify bikes priced significantly above average (e.g., 1.5 times the average)\n",
        "threshold = 1.5\n",
        "above_avg_bikes = df[df[\"selling_price\"] > threshold * df[\"avg_price_for_year\"]][\"name\"]\n",
        "\n",
        "# Display the unique bike names that are significantly above average price\n",
        "print(above_avg_bikes.unique())\n"
      ],
      "metadata": {
        "id": "oEyG-LFo73qS"
      },
      "execution_count": null,
      "outputs": []
    },
    {
      "cell_type": "code",
      "source": [
        "# Develop a correlation matrix for numeric columns and visualize it using a heatmap.\n",
        "import seaborn as sns\n",
        "import matplotlib.pyplot as plt\n",
        "\n",
        "# Select only numeric columns for correlation matrix\n",
        "numeric_df = df.select_dtypes(include=['number'])\n",
        "\n",
        "# Compute the correlation matrix\n",
        "correlation_matrix = numeric_df.corr()\n",
        "\n",
        "# Plot the heatmap\n",
        "plt.figure(figsize=(8, 6))\n",
        "sns.heatmap(correlation_matrix, annot=True, cmap=\"coolwarm\", fmt=\".2f\", linewidths=0.5)\n",
        "plt.title(\"Correlation Matrix Heatmap\")\n",
        "plt.show()\n"
      ],
      "metadata": {
        "id": "JKgu9PRi73ta"
      },
      "execution_count": null,
      "outputs": []
    },
    {
      "cell_type": "code",
      "source": [
        "                                                                        EDA 2"
      ],
      "metadata": {
        "id": "9ubMKfOl73wi"
      },
      "execution_count": null,
      "outputs": []
    },
    {
      "cell_type": "code",
      "source": [
        "import pandas as pd\n",
        "\n",
        "# Load the CSV file\n",
        "df = pd.read_csv(\"Car Sale (2).csv\")\n",
        "\n",
        "# Display column names\n",
        "print(df.columns)\n"
      ],
      "metadata": {
        "id": "tk_MfOFB74B_"
      },
      "execution_count": null,
      "outputs": []
    },
    {
      "cell_type": "code",
      "source": [
        "import pandas as pd\n",
        "import matplotlib.pyplot as plt\n",
        "\n",
        "# Load the CSV file\n",
        "df = pd.read_csv(\"Car Sale (2).csv\")\n",
        "\n",
        "# Clean column names (removing extra spaces)\n",
        "df.columns = df.columns.str.strip()\n",
        "\n",
        "# Calculate average selling price per dealer\n",
        "avg_price_per_dealer = df.groupby('Dealer_Name')['Price ($)'].mean().sort_values()\n",
        "\n",
        "# Print the average price per dealer\n",
        "print(avg_price_per_dealer)\n",
        "\n",
        "# Plot the comparison\n",
        "plt.figure(figsize=(10, 5))\n",
        "avg_price_per_dealer.plot(kind='bar', color='skyblue')\n",
        "plt.xlabel(\"Dealer\")\n",
        "plt.ylabel(\"Average Selling Price ($)\")\n",
        "plt.title(\"Comparison of Average Selling Price Across Dealers\")\n",
        "plt.xticks(rotation=45)\n",
        "plt.show()\n"
      ],
      "metadata": {
        "id": "s96Mso9Q74FF"
      },
      "execution_count": null,
      "outputs": []
    },
    {
      "cell_type": "code",
      "source": [
        "#Which car brand (Company) has the highest variation in prices, and what does this tell us about the pricing trends\n",
        "# Load the dataset\n",
        "df = pd.read_csv(\"Car Sale (2).csv\")\n",
        "\n",
        "# Clean column names (remove extra spaces)\n",
        "df.columns = df.columns.str.strip()\n",
        "\n",
        "# Calculate price variation (standard deviation) for each brand\n",
        "price_variation = df.groupby('Company')['Price ($)'].std().sort_values(ascending=False)\n",
        "\n",
        "# Print the top brands with the highest price variation\n",
        "print(price_variation)\n",
        "\n",
        "# Plot the price variation across brands\n",
        "plt.figure(figsize=(10, 5))\n",
        "price_variation.plot(kind='bar', color='orange')\n",
        "plt.xlabel(\"Car Brand (Company)\")\n",
        "plt.ylabel(\"Price Variation (Standard Deviation)\")\n",
        "plt.title(\"Price Variation Across Car Brands\")\n",
        "plt.xticks(rotation=45)\n",
        "plt.show()\n"
      ],
      "metadata": {
        "id": "WwEL09ii74IB"
      },
      "execution_count": null,
      "outputs": []
    },
    {
      "cell_type": "code",
      "source": [
        "# What is the distribution of car prices for each transmission type, and how do the interquartile ranges compare\n",
        "\n",
        "# Clean column names (remove extra spaces)\n",
        "df.columns = df.columns.str.strip()\n",
        "\n",
        "# Create a box plot for price distribution by transmission type\n",
        "plt.figure(figsize=(10, 5))\n",
        "sns.boxplot(x=df['Transmission'], y=df['Price ($)'], palette=\"coolwarm\")\n",
        "\n",
        "# Labels and title\n",
        "plt.xlabel(\"Transmission Type\")\n",
        "plt.ylabel(\"Car Price ($)\")\n",
        "plt.title(\"Distribution of Car Prices by Transmission Type\")\n",
        "plt.xticks(rotation=45)\n",
        "plt.grid(True)\n",
        "\n",
        "# Show the plot\n",
        "plt.show()"
      ],
      "metadata": {
        "id": "z6BXkChH74Kz"
      },
      "execution_count": null,
      "outputs": []
    },
    {
      "cell_type": "code",
      "source": [
        "# What is the distribution of car prices across different regions\n",
        "# Clean column names (remove extra spaces)\n",
        "df.columns = df.columns.str.strip()\n",
        "\n",
        "# Create a box plot for price distribution by region\n",
        "plt.figure(figsize=(10, 5))\n",
        "sns.boxplot(x=df['Dealer_Region'], y=df['Price ($)'], palette=\"viridis\")\n",
        "\n",
        "# Labels and title\n",
        "plt.xlabel(\"Region\")\n",
        "plt.ylabel(\"Car Price ($)\")\n",
        "plt.title(\"Distribution of Car Prices Across Different Regions\")\n",
        "plt.xticks(rotation=45)\n",
        "plt.grid(True)\n",
        "\n",
        "# Show the plot\n",
        "plt.show()\n"
      ],
      "metadata": {
        "id": "_v3db6CT74OC"
      },
      "execution_count": null,
      "outputs": []
    },
    {
      "cell_type": "code",
      "source": [
        "#What is the distribution of cars based on body style\n",
        "# Clean column names (remove extra spaces)\n",
        "df.columns = df.columns.str.strip()\n",
        "\n",
        "# Count the number of cars for each body style\n",
        "body_style_counts = df['Body Style'].value_counts()\n",
        "\n",
        "# Plot the distribution\n",
        "plt.figure(figsize=(10, 5))\n",
        "sns.barplot(x=body_style_counts.index, y=body_style_counts.values, palette=\"coolwarm\")\n",
        "\n",
        "# Labels and title\n",
        "plt.xlabel(\"Body Style\")\n",
        "plt.ylabel(\"Number of Cars\")\n",
        "plt.title(\"Distribution of Cars Based on Body Style\")\n",
        "plt.xticks(rotation=45)\n",
        "plt.grid(True)\n",
        "\n",
        "# Show the plot\n",
        "plt.show()\n"
      ],
      "metadata": {
        "id": "ji368LUx74Rn"
      },
      "execution_count": null,
      "outputs": []
    },
    {
      "cell_type": "code",
      "source": [
        "#How does the average selling price of cars vary by customer gender and annual income\n",
        "# Clean column names (remove extra spaces)\n",
        "df.columns = df.columns.str.strip()\n",
        "\n",
        "# Create income bins for better visualization\n",
        "income_bins = [0, 30000, 60000, 90000, 120000, 150000, df['Annual Income'].max()]\n",
        "income_labels = [\"<30K\", \"30K-60K\", \"60K-90K\", \"90K-120K\", \"120K-150K\", \"150K+\"]\n",
        "df['Income Group'] = pd.cut(df['Annual Income'], bins=income_bins, labels=income_labels, include_lowest=True)\n",
        "\n",
        "# Calculate the average selling price by gender and income group\n",
        "avg_price = df.groupby(['Gender', 'Income Group'])['Price ($)'].mean().unstack()\n",
        "\n",
        "# Plot the grouped bar chart\n",
        "plt.figure(figsize=(10, 5))\n",
        "avg_price.T.plot(kind='bar', figsize=(10, 5), colormap=\"coolwarm\")\n",
        "\n",
        "# Labels and title\n",
        "plt.xlabel(\"Annual Income Group\")\n",
        "plt.ylabel(\"Average Selling Price ($)\")\n",
        "plt.title(\"Average Selling Price of Cars by Gender and Income Group\")\n",
        "plt.xticks(rotation=45)\n",
        "plt.legend(title=\"Gender\")\n",
        "plt.grid(True)\n",
        "\n",
        "# Show the plot\n",
        "plt.show()\n"
      ],
      "metadata": {
        "id": "q2moCzPR74Ww"
      },
      "execution_count": null,
      "outputs": []
    },
    {
      "cell_type": "code",
      "source": [
        "# What is the distribution of car prices by region, and how does the number of cars sold vary by region\n",
        "# Clean column names (remove extra spaces)\n",
        "df.columns = df.columns.str.strip()\n",
        "\n",
        "# Box plot for car price distribution by region\n",
        "plt.figure(figsize=(10, 5))\n",
        "sns.boxplot(x=df['Dealer_Region'], y=df['Price ($)'], palette=\"viridis\")\n",
        "plt.xlabel(\"Region\")\n",
        "plt.ylabel(\"Car Price ($)\")\n",
        "plt.title(\"Distribution of Car Prices by Region\")\n",
        "plt.xticks(rotation=45)\n",
        "plt.grid(True)\n",
        "plt.show()\n",
        "\n",
        "# Count the number of cars sold in each region\n",
        "region_counts = df['Dealer_Region'].value_counts()\n",
        "\n",
        "# Bar chart for number of cars sold by region\n",
        "plt.figure(figsize=(10, 5))\n",
        "sns.barplot(x=region_counts.index, y=region_counts.values, palette=\"coolwarm\")\n",
        "plt.xlabel(\"Region\")\n",
        "plt.ylabel(\"Number of Cars Sold\")\n",
        "plt.title(\"Number of Cars Sold by Region\")\n",
        "plt.xticks(rotation=45)\n",
        "plt.grid(True)\n",
        "plt.show()\n"
      ],
      "metadata": {
        "id": "KlPyadY974Z6"
      },
      "execution_count": null,
      "outputs": []
    },
    {
      "cell_type": "code",
      "source": [
        "# How does the average car price differ between cars with different engine sizes\n",
        "# Clean column names (remove extra spaces)\n",
        "df.columns = df.columns.str.strip()\n",
        "\n",
        "# Calculate average price by engine size\n",
        "avg_price_by_engine = df.groupby('Engine')['Price ($)'].mean().sort_values()\n",
        "\n",
        "# Plot the results\n",
        "plt.figure(figsize=(10, 5))\n",
        "sns.barplot(x=avg_price_by_engine.index, y=avg_price_by_engine.values, palette=\"coolwarm\")\n",
        "\n",
        "# Labels and title\n",
        "plt.xlabel(\"Engine Size\")\n",
        "plt.ylabel(\"Average Car Price ($)\")\n",
        "plt.title(\"Average Car Price by Engine Size\")\n",
        "plt.xticks(rotation=45)\n",
        "plt.grid(True)\n",
        "\n",
        "# Show the plot\n",
        "plt.show()\n"
      ],
      "metadata": {
        "id": "BPL3792074dE"
      },
      "execution_count": null,
      "outputs": []
    },
    {
      "cell_type": "code",
      "source": [
        "# How do car prices vary based on the customer’s annual income bracket\n",
        "# Clean column names (remove extra spaces)\n",
        "df.columns = df.columns.str.strip()\n",
        "\n",
        "# Define income brackets\n",
        "income_bins = [0, 30000, 60000, 90000, 120000, 150000, df['Annual Income'].max()]\n",
        "income_labels = [\"<30K\", \"30K-60K\", \"60K-90K\", \"90K-120K\", \"120K-150K\", \"150K+\"]\n",
        "df['Income Group'] = pd.cut(df['Annual Income'], bins=income_bins, labels=income_labels, include_lowest=True)\n",
        "\n",
        "# Create a box plot for car price distribution by income bracket\n",
        "plt.figure(figsize=(10, 5))\n",
        "sns.boxplot(x=df['Income Group'], y=df['Price ($)'], palette=\"viridis\")\n",
        "\n",
        "# Labels and title\n",
        "plt.xlabel(\"Annual Income Bracket\")\n",
        "plt.ylabel(\"Car Price ($)\")\n",
        "plt.title(\"Variation of Car Prices Based on Customer's Annual Income Bracket\")\n",
        "plt.xticks(rotation=45)\n",
        "plt.grid(True)\n",
        "\n",
        "# Show the plot\n",
        "plt.show()\n"
      ],
      "metadata": {
        "id": "q45aySdV74gR"
      },
      "execution_count": null,
      "outputs": []
    },
    {
      "cell_type": "code",
      "source": [
        "#  What are the top 5 car models with the highest number of sales, and how does their price distribution look\n",
        "# Clean column names (remove extra spaces)\n",
        "df.columns = df.columns.str.strip()\n",
        "\n",
        "# Find the top 5 best-selling car models\n",
        "top_models = df['Model'].value_counts().head(5).index\n",
        "\n",
        "# Filter the dataset for only these top models\n",
        "df_top_models = df[df['Model'].isin(top_models)]\n",
        "\n",
        "# Plot the price distribution for top 5 models\n",
        "plt.figure(figsize=(10, 5))\n",
        "sns.boxplot(x=df_top_models['Model'], y=df_top_models['Price ($)'], palette=\"coolwarm\")\n",
        "\n",
        "# Labels and title\n",
        "plt.xlabel(\"Car Model\")\n",
        "plt.ylabel(\"Car Price ($)\")\n",
        "plt.title(\"Price Distribution of Top 5 Best-Selling Car Models\")\n",
        "plt.xticks(rotation=45)\n",
        "plt.grid(True)\n",
        "\n",
        "# Show the plot\n",
        "plt.show()\n",
        "\n",
        "# Print the top 5 models and their sales count\n",
        "print(df['Model'].value_counts().head(5))\n"
      ],
      "metadata": {
        "id": "LWDM3ZAy74jo"
      },
      "execution_count": null,
      "outputs": []
    },
    {
      "cell_type": "code",
      "source": [
        "# How does car price vary with engine size across different car colors, and which colors have the highest price variation\n",
        "# Clean column names (remove extra spaces)\n",
        "df.columns = df.columns.str.strip()\n",
        "\n",
        "# Box plot: Car price variation by engine size and color\n",
        "plt.figure(figsize=(12, 6))\n",
        "sns.boxplot(x=df['Engine'], y=df['Price ($)'], hue=df['Color'], palette=\"coolwarm\")\n",
        "\n",
        "# Labels and title\n",
        "plt.xlabel(\"Engine Size\")\n",
        "plt.ylabel(\"Car Price ($)\")\n",
        "plt.title(\"Car Price Variation with Engine Size Across Different Colors\")\n",
        "plt.xticks(rotation=45)\n",
        "plt.legend(title=\"Car Color\", bbox_to_anchor=(1.05, 1), loc=\"upper left\")\n",
        "plt.grid(True)\n",
        "\n",
        "# Show the plot\n",
        "plt.show()\n",
        "\n",
        "# Calculate price variation (standard deviation) for each color\n",
        "color_price_variation = df.groupby('Color')['Price ($)'].std().sort_values(ascending=False)\n",
        "\n",
        "# Print the colors with highest price variation\n",
        "print(\"Top colors with highest price variation:\")\n",
        "print(color_price_variation.head(5))\n"
      ],
      "metadata": {
        "id": "Avg9et6D74m8"
      },
      "execution_count": null,
      "outputs": []
    },
    {
      "cell_type": "code",
      "source": [
        "# Is there any seasonal trend in car sales based on the date of sale\n",
        "# Clean column names (remove extra spaces)\n",
        "df.columns = df.columns.str.strip()\n",
        "\n",
        "# Convert 'Date' column to datetime format\n",
        "df['Date'] = pd.to_datetime(df['Date'])\n",
        "\n",
        "# Extract month name from the date\n",
        "df['Month'] = df['Date'].dt.month_name()\n",
        "\n",
        "# Count the number of cars sold in each month\n",
        "monthly_sales = df['Month'].value_counts().reindex(\n",
        "    [\"January\", \"February\", \"March\", \"April\", \"May\", \"June\",\n",
        "     \"July\", \"August\", \"September\", \"October\", \"November\", \"December\"]\n",
        ")\n",
        "\n",
        "# Plot the sales trend\n",
        "plt.figure(figsize=(10, 5))\n",
        "sns.lineplot(x=monthly_sales.index, y=monthly_sales.values, marker=\"o\", color=\"blue\")\n",
        "\n",
        "# Labels and title\n",
        "plt.xlabel(\"Month\")\n",
        "plt.ylabel(\"Number of Cars Sold\")\n",
        "plt.title(\"Seasonal Trend in Car Sales\")\n",
        "plt.xticks(rotation=45)\n",
        "plt.grid(True)\n",
        "\n",
        "# Show the plot\n",
        "plt.show()\n"
      ],
      "metadata": {
        "id": "5amNgk_G74qV"
      },
      "execution_count": null,
      "outputs": []
    },
    {
      "cell_type": "code",
      "source": [
        "# How does the car price distribution change when considering different combinations of body style and transmission type\n",
        "# Clean column names (remove extra spaces)\n",
        "df.columns = df.columns.str.strip()\n",
        "\n",
        "# Create a new column combining Body Style and Transmission Type\n",
        "df['Body_Transmission'] = df['Body Style'] + \" - \" + df['Transmission']\n",
        "\n",
        "# Box plot: Car price distribution for different Body Style and Transmission Type combinations\n",
        "plt.figure(figsize=(12, 6))\n",
        "sns.boxplot(x=df['Body_Transmission'], y=df['Price ($)'], palette=\"coolwarm\")\n",
        "\n",
        "# Labels and title\n",
        "plt.xlabel(\"Body Style - Transmission Type\")\n",
        "plt.ylabel(\"Car Price ($)\")\n",
        "plt.title(\"Car Price Distribution by Body Style and Transmission Type\")\n",
        "plt.xticks(rotation=45, ha=\"right\")\n",
        "plt.grid(True)\n",
        "\n",
        "# Show the plot\n",
        "plt.show()\n"
      ],
      "metadata": {
        "id": "i1OPWXZ-74tL"
      },
      "execution_count": null,
      "outputs": []
    },
    {
      "cell_type": "code",
      "source": [
        "# What is the correlation between car price, engine size, and annual income of customers, and how do these features interact\n",
        "# Clean column names (remove extra spaces)\n",
        "df.columns = df.columns.str.strip()\n",
        "\n",
        "# Ensure 'Engine' column is numeric (extract numbers if needed)\n",
        "df['Engine'] = df['Engine'].str.extract(r'(\\d+\\.\\d+|\\d+)').astype(float)\n",
        "\n",
        "# Select relevant numeric columns\n",
        "corr_df = df[['Price ($)', 'Engine', 'Annual Income']]\n",
        "\n",
        "# Compute correlation matrix\n",
        "corr_matrix = corr_df.corr()\n",
        "\n",
        "# Plot correlation heatmap\n",
        "plt.figure(figsize=(6, 4))\n",
        "sns.heatmap(corr_matrix, annot=True, cmap=\"coolwarm\", fmt=\".2f\", linewidths=0.5)\n",
        "\n",
        "# Labels and title\n",
        "plt.title(\"Correlation Between Car Price, Engine Size, and Annual Income\")\n",
        "plt.show()\n",
        "\n",
        "# Pair plot to visualize feature interactions\n",
        "sns.pairplot(corr_df, diag_kind=\"kde\", markers=\"+\", plot_kws={'alpha': 0.5})\n",
        "plt.show()\n"
      ],
      "metadata": {
        "id": "Sk3UnLsQ74wI"
      },
      "execution_count": null,
      "outputs": []
    },
    {
      "cell_type": "code",
      "source": [
        "\n",
        "# How does the average car price vary across different car models and engine types\n",
        "df.columns = df.columns.str.strip()\n",
        "\n",
        "# Convert 'Engine' to string only if it's not numeric, then extract numbers\n",
        "if df['Engine'].dtype == 'object':\n",
        "    df['Engine'] = df['Engine'].str.extract(r'(\\d+\\.\\d+|\\d+)').astype(float)\n",
        "\n",
        "# Remove rows where 'Engine' or 'Price ($)' is missing\n",
        "df = df.dropna(subset=['Engine', 'Price ($)'])\n",
        "\n",
        "# Group by Model and Engine, then calculate average price\n",
        "avg_price = df.groupby(['Model', 'Engine'])['Price ($)'].mean().unstack()\n",
        "\n",
        "# Check if avg_price is empty before plotting\n",
        "if not avg_price.empty:\n",
        "    # Plot heatmap\n",
        "    plt.figure(figsize=(12, 6))\n",
        "    sns.heatmap(avg_price, annot=True, fmt=\".0f\", cmap=\"coolwarm\", linewidths=0.5)\n",
        "\n",
        "    # Labels and title\n",
        "    plt.xlabel(\"Engine Size\")\n",
        "    plt.ylabel(\"Car Model\")\n",
        "    plt.title(\"Average Car Price Across Models and Engine Types\")\n",
        "\n",
        "    # Show the plot\n",
        "    plt.show()\n",
        "else:\n",
        "    print(\"No valid data available for plotting after filtering.\")\n"
      ],
      "metadata": {
        "id": "eDIlifUW746G"
      },
      "execution_count": null,
      "outputs": []
    },
    {
      "cell_type": "code",
      "source": [
        "                                                                         EDA 4"
      ],
      "metadata": {
        "id": "wGNM-kPh749b"
      },
      "execution_count": null,
      "outputs": []
    },
    {
      "cell_type": "code",
      "source": [
        "#Read the dataframe, check null value if present then do the needful, check duplicate row , if present then do the needful open\n",
        "import pandas as pd\n",
        "\n",
        "# Load the dataset\n",
        "file_path = \"/content/spotify.csv\"\n",
        "df = pd.read_csv(file_path)\n",
        "\n",
        "# Check for null values and handle them (filling with mean for numeric columns, mode for categorical)\n",
        "if df.isnull().sum().sum() > 0:\n",
        "    for column in df.columns:\n",
        "        if df[column].isnull().sum() > 0:\n",
        "            if df[column].dtype == 'object':  # Categorical column\n",
        "                df[column].fillna(df[column].mode()[0], inplace=True)\n",
        "            else:  # Numeric column\n",
        "                df[column].fillna(df[column].mean(), inplace=True)\n",
        "\n",
        "# Check for duplicate rows and remove them\n",
        "df.drop_duplicates(inplace=True)\n",
        "\n",
        "# Display the cleaned dataframe\n",
        "df.head()\n"
      ],
      "metadata": {
        "id": "ZPIot5Pg75xZ"
      },
      "execution_count": null,
      "outputs": []
    },
    {
      "cell_type": "code",
      "source": [
        "#  What is the distribution of popularity among the tracks in the dataset? Visualize it using a histogram\n",
        "import pandas as pd\n",
        "import matplotlib.pyplot as plt\n",
        "\n",
        "# Load the dataset\n",
        "file_path = \"/content/spotify.csv\"  # Update if needed\n",
        "df = pd.read_csv(file_path)\n",
        "\n",
        "# Plot histogram for \"Popularity\"\n",
        "plt.figure(figsize=(10, 5))\n",
        "plt.hist(df[\"Popularity\"], bins=20, edgecolor=\"black\", alpha=0.7)\n",
        "plt.xlabel(\"Popularity\")\n",
        "plt.ylabel(\"Count of Tracks\")\n",
        "plt.title(\"Distribution of Popularity among Tracks\")\n",
        "plt.grid(axis=\"y\", linestyle=\"--\", alpha=0.7)\n",
        "plt.show()\n"
      ],
      "metadata": {
        "id": "tk7D44C075z7"
      },
      "execution_count": null,
      "outputs": []
    },
    {
      "cell_type": "code",
      "source": [
        "print(df.columns)\n"
      ],
      "metadata": {
        "id": "PREG2weT753Z"
      },
      "execution_count": null,
      "outputs": []
    },
    {
      "cell_type": "code",
      "source": [
        "# Is there any relationship between the popularity and the duration of tracks? Explore this using a scatter plot\n",
        "# Create scatter plot\n",
        "plt.figure(figsize=(10, 5))\n",
        "plt.scatter(df[\"Duration (ms)\"], df[\"Popularity\"], alpha=0.5, color=\"blue\")\n",
        "plt.xlabel(\"Duration (ms)\")\n",
        "plt.ylabel(\"Popularity\")\n",
        "plt.title(\"Relationship between Track Duration and Popularity\")\n",
        "plt.grid(True, linestyle=\"--\", alpha=0.5)\n",
        "plt.show()\n"
      ],
      "metadata": {
        "id": "Fo5ywqdO7552"
      },
      "execution_count": null,
      "outputs": []
    },
    {
      "cell_type": "code",
      "source": [
        "#Which artist has the highest number of tracks in the dataset? Display the count of tracks for each artist using a countplot\n",
        "import seaborn as sns\n",
        "\n",
        "# Count the number of tracks per artist\n",
        "artist_counts = df[\"Artist\"].value_counts().reset_index()\n",
        "artist_counts.columns = [\"Artist\", \"Track Count\"]\n",
        "\n",
        "# Plot the countplot\n",
        "plt.figure(figsize=(12, 6))\n",
        "sns.barplot(data=artist_counts.head(10), x=\"Artist\", y=\"Track Count\", palette=\"viridis\")\n",
        "plt.xticks(rotation=45, ha=\"right\")\n",
        "plt.xlabel(\"Artist\")\n",
        "plt.ylabel(\"Number of Tracks\")\n",
        "plt.title(\"Top 10 Artists with the Most Tracks\")\n",
        "plt.show()\n",
        "\n",
        "# Display the artist with the highest number of tracks\n",
        "most_tracks_artist = artist_counts.iloc[0]\n",
        "most_tracks_artist\n"
      ],
      "metadata": {
        "id": "F6kr1Ruz7587"
      },
      "execution_count": null,
      "outputs": []
    },
    {
      "cell_type": "code",
      "source": [
        "# What are the top 5 least popular tracks in the dataset? Provide the artist name and track name for each\n",
        "# Get the 5 least popular tracks\n",
        "least_popular_tracks = df.nsmallest(5, \"Popularity\")[[\"Artist\", \"Track Name\", \"Popularity\"]]\n",
        "\n",
        "# Display the result\n",
        "least_popular_tracks\n"
      ],
      "metadata": {
        "id": "VYnd208A76AF"
      },
      "execution_count": null,
      "outputs": []
    },
    {
      "cell_type": "code",
      "source": [
        "# Among the top 5 most popular artists, which artist has the highest popularity on average? Calculate and display the average popularity for each artist\n",
        "# Calculate average popularity for each artist\n",
        "artist_avg_popularity = df.groupby(\"Artist\")[\"Popularity\"].mean().reset_index()\n",
        "\n",
        "# Get the top 5 artists with the highest average popularity\n",
        "top_5_artists = artist_avg_popularity.nlargest(5, \"Popularity\")\n",
        "\n",
        "# Display the result\n",
        "top_5_artists\n"
      ],
      "metadata": {
        "id": "geNmlM9E76Cr"
      },
      "execution_count": null,
      "outputs": []
    },
    {
      "cell_type": "code",
      "source": [
        " #For the top 5 most popular artists, what are their most popular tracks? List the track name for each artist\n",
        " # Calculate average popularity for each artist\n",
        "artist_avg_popularity = df.groupby(\"Artist\")[\"Popularity\"].mean().reset_index()\n",
        "\n",
        "# Get the top 5 most popular artists\n",
        "top_5_artists = artist_avg_popularity.nlargest(5, \"Popularity\")[\"Artist\"]\n",
        "\n",
        "# Find the most popular track for each of the top 5 artists\n",
        "top_tracks = []\n",
        "for artist in top_5_artists:\n",
        "    most_popular_track = df[df[\"Artist\"] == artist].nlargest(1, \"Popularity\")[[\"Artist\", \"Track Name\", \"Popularity\"]]\n",
        "    top_tracks.append(most_popular_track)\n",
        "\n",
        "# Combine results into a single DataFrame\n",
        "top_tracks_df = pd.concat(top_tracks)\n",
        "\n",
        "# Display the result\n",
        "top_tracks_df\n"
      ],
      "metadata": {
        "id": "2r7moLzf76Gw"
      },
      "execution_count": null,
      "outputs": []
    },
    {
      "cell_type": "code",
      "source": [
        "# Visualize relationships between multiple numerical variables simultaneously using a pair plot\n",
        "import seaborn as sns\n",
        "\n",
        "# Selecting numerical columns for pair plot\n",
        "numeric_cols = [\"Popularity\", \"Duration (ms)\"]  # Add more numerical columns if available\n",
        "\n",
        "# Create pair plot\n",
        "sns.pairplot(df[numeric_cols])\n",
        "plt.show()\n"
      ],
      "metadata": {
        "id": "5wN6wGGQ72YQ"
      },
      "execution_count": null,
      "outputs": []
    },
    {
      "cell_type": "code",
      "source": [
        "#Does the duration of tracks vary significantly across different artists? Explore this visually using a box plot or violin plot\n",
        "import pandas as pd\n",
        "import seaborn as sns\n",
        "import matplotlib.pyplot as plt\n",
        "\n",
        "# Load the dataset\n",
        "file_path = \"/content/spotify.csv\"\n",
        "df = pd.read_csv(file_path)\n",
        "\n",
        "# Select top 10 artists for better visualization (optional)\n",
        "top_10_artists = df['Artist'].value_counts().head(10).index\n",
        "filtered_df = df[df['Artist'].isin(top_10_artists)]\n",
        "\n",
        "# Create the violin plot\n",
        "plt.figure(figsize=(12, 6))\n",
        "sns.violinplot(x='Artist', y='Duration (ms)', data=filtered_df, palette='viridis')\n",
        "plt.title('Variation in Track Duration Across Artists')\n",
        "#Does the duration of tracks vary significantly across different artists? Explore this visually using a box plot or violin plot\n",
        "import pandas as pd\n",
        "import seaborn as sns\n",
        "import matplotlib.pyplot as plt\n",
        "\n",
        "# Load the dataset\n",
        "file_path = \"/content/spotify.csv\"\n",
        "df = pd.read_csv(file_path)\n",
        "\n",
        "# Select top 10 artists for better visualization (optional)\n",
        "top_10_artists = df['Artist'].value_counts().head(10).index\n",
        "filtered_df = df[df['Artist'].isin(top_10_artists)]\n",
        "\n",
        "# Create the violin plot\n",
        "plt.figure(figsize=(12, 6))\n",
        "sns.violinplot(x='Artist', y='Duration (ms)', data=filtered_df, palette='viridis')\n",
        "plt.title('Variation in Track Duration Across Artists')\n",
        "plt.xticks(rotation=45, ha='right')  # Rotate x-axis labels for readability\n",
        "plt.xlabel('Artist')\n",
        "plt.ylabel('Duration (ms)')\n",
        "plt.show()"
      ],
      "metadata": {
        "id": "fYDw0_6472a8"
      },
      "execution_count": null,
      "outputs": []
    },
    {
      "cell_type": "code",
      "source": [
        "\n",
        "\n",
        " #How does the distribution of track popularity vary for different artists? Visualize this using a swarm plot or a violin plot.\n",
        "import pandas as pd\n",
        "import seaborn as sns\n",
        "import matplotlib.pyplot as plt\n",
        "\n",
        "# Load the dataset\n",
        "file_path = \"/content/spotify.csv\"\n",
        "df = pd.read_csv(file_path)\n",
        "\n",
        "# Select top 10 artists for better visualization (optional)\n",
        "top_10_artists = df['Artist'].value_counts().head(10).index\n",
        "filtered_df = df[df['Artist'].isin(top_10_artists)]\n",
        "\n",
        "# Create the violin plot\n",
        "plt.figure(figsize=(12, 6))\n",
        "sns.violinplot(x='Artist', y='Popularity', data=filtered_df, palette='viridis')\n",
        "plt.title('Distribution of Track Popularity Across Artists (Violin Plot)')\n",
        "plt.xticks(rotation=45, ha='right')\n",
        "plt.xlabel('Artist')\n",
        "plt.ylabel"
      ],
      "metadata": {
        "id": "L7UN4TYw72dy"
      },
      "execution_count": null,
      "outputs": []
    },
    {
      "cell_type": "code",
      "source": [],
      "metadata": {
        "id": "KwcM762v72gp"
      },
      "execution_count": null,
      "outputs": []
    },
    {
      "cell_type": "code",
      "source": [],
      "metadata": {
        "id": "t7LrJRFT72je"
      },
      "execution_count": null,
      "outputs": []
    },
    {
      "cell_type": "code",
      "source": [],
      "metadata": {
        "id": "TcWkEb9a72l4"
      },
      "execution_count": null,
      "outputs": []
    },
    {
      "cell_type": "code",
      "source": [],
      "metadata": {
        "id": "o_fa6Nv872og"
      },
      "execution_count": null,
      "outputs": []
    },
    {
      "cell_type": "code",
      "source": [],
      "metadata": {
        "id": "3wTtnFbA72rI"
      },
      "execution_count": null,
      "outputs": []
    },
    {
      "cell_type": "code",
      "source": [],
      "metadata": {
        "id": "L9suSzeU72t6"
      },
      "execution_count": null,
      "outputs": []
    },
    {
      "cell_type": "code",
      "source": [],
      "metadata": {
        "id": "nxmwgB7n72ws"
      },
      "execution_count": null,
      "outputs": []
    },
    {
      "cell_type": "code",
      "source": [],
      "metadata": {
        "id": "UBPMhr-Q72zo"
      },
      "execution_count": null,
      "outputs": []
    },
    {
      "cell_type": "code",
      "source": [],
      "metadata": {
        "id": "uVCT6UZT722G"
      },
      "execution_count": null,
      "outputs": []
    }
  ]
}